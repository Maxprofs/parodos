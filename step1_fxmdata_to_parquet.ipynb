{
 "cells": [
  {
   "cell_type": "markdown",
   "metadata": {},
   "source": [
    "# Import FXCM data to Parquet for Spark processing in Python\n",
    "\n",
    "The goal of this project is to explore forex data using Spark. \n",
    "\n",
    "Using [fxcmpy](https://github.com/fxcm/fxcmpy) this script imports 10 years of minutes data of currency pairs into [parquet](https://parquet.apache.org/) format that Spark will handle seamlessly\n",
    "\n",
    "pairs :\n",
    "\n",
    "- EUR/USD (Euro – US dollar)\n",
    "- EUR/CHF (Euro - Swiss franc )\n",
    "- EUR/JPY (Euro - Japanese yen)\n",
    "- USD/JPY (US dollar – Japanese yen)\n",
    "- USD/CHF (US dollar – Swiss franc)\n",
    "- USD/CAD (US dollar – Canadian dollar)\n",
    "- GBP/USD (British pound – US dollar)\n",
    "- AUD/USD (Australian dollar – US dollar)\n",
    "\n",
    "It represents almost 30 millions of valid candles over 46 millions of samples ( every minutes for 10 years )\n",
    "\n",
    "Requirements :\n",
    "\n",
    "- install [spark](https://spark.apache.org/) ( 2.3 recommended for later ) \n",
    "- free [fxcm](https://www.fxcm.com) demo account.\n",
    "\n",
    "create a virtualenv and install python packages:\n",
    "\n",
    "```console\n",
    "pip install -r requirements.txt\n",
    "```\n"
   ]
  },
  {
   "cell_type": "markdown",
   "metadata": {},
   "source": [
    "## Connect to FXCM\n",
    "\n",
    "Copy paste the fxcm demo token here"
   ]
  },
  {
   "cell_type": "code",
   "execution_count": 1,
   "metadata": {},
   "outputs": [],
   "source": [
    "import fxcmpy\n",
    "#token needed\n",
    "token = \"\"\n",
    "\n",
    "con = fxcmpy.fxcmpy(access_token=token, log_level='error')"
   ]
  },
  {
   "cell_type": "markdown",
   "metadata": {},
   "source": [
    "## Import FXCM minutes Data\n",
    "\n",
    "Import in Parquet minutes historic candles from FXCM by year and instruments. \n",
    "not parallelised so will take few hours to run.\n",
    "\n",
    "the results are sampled by minutes for later interpolation"
   ]
  },
  {
   "cell_type": "code",
   "execution_count": null,
   "metadata": {
    "scrolled": true
   },
   "outputs": [],
   "source": [
    "import datetime as dt\n",
    "import pandas as pd\n",
    "import os\n",
    "\n",
    "\n",
    "def fxcm_to_parquet(inst,year,folder):\n",
    "    cut = 20\n",
    "    beg = dt.datetime(year=year,month=1,day=1)  \n",
    "    end = dt.datetime(year=year,month=12,day=31,hour=23,minute=59)\n",
    "    diff =  dt.datetime(year=year+1,month=1,day=1) - beg \n",
    "    delta = diff/cut\n",
    "    \n",
    "    dfsampled = pd.DataFrame(index = pd.date_range(beg,end, freq='T'))\n",
    "    dfsampled.index.name = \"date\"\n",
    "\n",
    "    frames=[]\n",
    "    for i in range(1,cut+1):\n",
    "        end = beg + delta\n",
    "        print(beg,end)\n",
    "        df = con.get_candles(inst,start=beg,end=end,period='m1')\n",
    "        if df.empty is False:\n",
    "            df.reset_index(inplace=True)       \n",
    "            frames.append(df)\n",
    "        beg = end +  dt.timedelta(minutes = 1)\n",
    "\n",
    "    result = pd.concat(frames)\n",
    "    instnorm = inst.replace(\"/\",\"\")\n",
    "    directory = \"{}/inst={}/\".format(folder,instnorm)\n",
    "    if not os.path.exists(directory):\n",
    "        os.makedirs(directory)\n",
    "    filename = \"{}/inst={}/data_{}.parquet\".format(folder,instnorm,year)\n",
    "    result.set_index(\"date\",inplace=True)\n",
    "    for col in result.columns:\n",
    "        dfsampled[col] = result[col]\n",
    "    dfsampled.to_parquet(filename)\n",
    "\n",
    "          \n",
    "instlist = ['EUR/USD','EUR/CHF','EUR/JPY','USD/JPY','USD/CHF',\"USD/CAD\", 'GBP/USD', 'AUD/USD']\n",
    "\n",
    "\n",
    "for linst in instlist: \n",
    "    print(\"inst\",linst)\n",
    "    for i in range(2008,2019):\n",
    "        fxcm_to_parquet(linst,i,'data/forexdatam')\n",
    "    "
   ]
  },
  {
   "cell_type": "markdown",
   "metadata": {},
   "source": [
    "## Connect to Spark\n",
    "\n",
    "Findspark package will do the job"
   ]
  },
  {
   "cell_type": "code",
   "execution_count": 1,
   "metadata": {},
   "outputs": [],
   "source": [
    "import findspark\n",
    "findspark.init()\n",
    "\n",
    "from pyspark.sql import SparkSession\n",
    "from pyspark.sql import SQLContext\n",
    "from pyspark import SparkContext\n",
    "import pyspark\n",
    "\n",
    "spark = SparkSession \\\n",
    "    .builder \\\n",
    "    .appName(\"Paktolos\") \\\n",
    "    .getOrCreate()\n",
    "\n",
    "sc = SparkContext.getOrCreate()\n",
    "sqlc = SQLContext(sc)"
   ]
  },
  {
   "cell_type": "markdown",
   "metadata": {},
   "source": [
    "## Create the Spark dataframe\n",
    "\n",
    "Open the parquets files in one dataframe, parallel processing and sql queries are now possible"
   ]
  },
  {
   "cell_type": "code",
   "execution_count": 13,
   "metadata": {},
   "outputs": [
    {
     "name": "stdout",
     "output_type": "stream",
     "text": [
      "Number of candles ( bid and ask ) : 46287360\n",
      "Count time 7.417025804519653\n",
      "Columns saved : ['bidopen', 'bidclose', 'bidhigh', 'bidlow', 'askopen', 'askclose', 'askhigh', 'asklow', 'tickqty', 'date', 'inst']\n"
     ]
    }
   ],
   "source": [
    "import time\n",
    "beg = time.time()\n",
    "df_spark = spark.read.parquet(\"data/forexdatam\").orderBy(\"date\")\n",
    "count = df_spark.count()\n",
    "print(\"Number of candles ( bid and ask ) :\", count)\n",
    "print(\"Count time\", time.time()-beg)\n",
    "print(\"Columns saved :\", df_spark.columns)"
   ]
  },
  {
   "cell_type": "markdown",
   "metadata": {},
   "source": [
    "## Quantiles Computation\n",
    "\n",
    "Compute the spread quantiles by computing the difference between the ask and bid price for each minute over ten years.\n",
    "Displays the results using [Plotly](https://plot.ly/). This is for testing data manipulation"
   ]
  },
  {
   "cell_type": "code",
   "execution_count": 12,
   "metadata": {},
   "outputs": [
    {
     "data": {
      "text/html": [
       "<script>requirejs.config({paths: { 'plotly': ['https://cdn.plot.ly/plotly-latest.min']},});if(!window.Plotly) {{require(['plotly'],function(plotly) {window.Plotly=plotly;});}}</script>"
      ],
      "text/vnd.plotly.v1+html": [
       "<script>requirejs.config({paths: { 'plotly': ['https://cdn.plot.ly/plotly-latest.min']},});if(!window.Plotly) {{require(['plotly'],function(plotly) {window.Plotly=plotly;});}}</script>"
      ]
     },
     "metadata": {},
     "output_type": "display_data"
    },
    {
     "data": {
      "application/vnd.plotly.v1+json": {
       "data": [
        {
         "boxpoints": false,
         "name": "EUR/USD",
         "type": "box",
         "y": [
          1.100000000000545,
          1.2000000000012,
          1.2000000000012,
          1.40000000000029,
          1.500000000000945,
          1.500000000000945,
          1.7000000000000348
         ]
        },
        {
         "boxpoints": false,
         "name": "EUR/CHF",
         "type": "box",
         "y": [
          1.9999999999997797,
          2.20000000000109,
          2.20000000000109,
          2.4999999999986144,
          3.20000000000098,
          3.20000000000098,
          4.20000000000087
         ]
        },
        {
         "boxpoints": false,
         "name": "EUR/JPY",
         "type": "box",
         "y": [
          1.9000000000005457,
          2.1000000000000796,
          2.1000000000000796,
          2.3000000000024556,
          2.5000000000005684,
          2.5000000000005684,
          3.1999999999982265
         ]
        },
        {
         "boxpoints": false,
         "name": "USD/JPY",
         "type": "box",
         "y": [
          1.2000000000000455,
          1.300000000000523,
          1.300000000000523,
          1.4000000000010004,
          1.6000000000005343,
          1.6000000000005343,
          1.9000000000005457
         ]
        },
        {
         "boxpoints": false,
         "name": "USD/CHF",
         "type": "box",
         "y": [
          1.3999999999991797,
          1.4999999999998348,
          1.4999999999998348,
          1.7999999999995797,
          2.1999999999988695,
          2.1999999999988695,
          3.1000000000003247
         ]
        },
        {
         "boxpoints": false,
         "name": "USD/CAD",
         "type": "box",
         "y": [
          1.900000000001345,
          2.100000000000435,
          2.100000000000435,
          2.300000000001745,
          2.9999999999996696,
          2.9999999999996696,
          4.3999999999999595
         ]
        },
        {
         "boxpoints": false,
         "name": "GBP/USD",
         "type": "box",
         "y": [
          1.3999999999980695,
          1.500000000000945,
          1.500000000000945,
          1.80000000000069,
          2.100000000000435,
          2.100000000000435,
          2.80000000000058
         ]
        },
        {
         "boxpoints": false,
         "name": "AUD/USD",
         "type": "box",
         "y": [
          1.7000000000000348,
          1.80000000000069,
          1.80000000000069,
          1.9999999999997797,
          2.4000000000001798,
          2.4000000000001798,
          3.1000000000003247
         ]
        }
       ],
       "layout": {
        "bargap": 0.2,
        "bargroupgap": 0.1,
        "title": "FXCM Spread distribution based on minutes bid ask differences since 2008 computed using spark (min=p10 max=p90)",
        "xaxis": {
         "title": "Instrument"
        },
        "yaxis": {
         "title": "Spread"
        }
       }
      },
      "text/html": [
       "<div id=\"02ff6099-0c3a-4252-b5ad-25fafafe2038\" style=\"height: 525px; width: 100%;\" class=\"plotly-graph-div\"></div><script type=\"text/javascript\">require([\"plotly\"], function(Plotly) { window.PLOTLYENV=window.PLOTLYENV || {};window.PLOTLYENV.BASE_URL=\"https://plot.ly\";Plotly.newPlot(\"02ff6099-0c3a-4252-b5ad-25fafafe2038\", [{\"type\": \"box\", \"y\": [1.100000000000545, 1.2000000000012, 1.2000000000012, 1.40000000000029, 1.500000000000945, 1.500000000000945, 1.7000000000000348], \"name\": \"EUR/USD\", \"boxpoints\": false}, {\"type\": \"box\", \"y\": [1.9999999999997797, 2.20000000000109, 2.20000000000109, 2.4999999999986144, 3.20000000000098, 3.20000000000098, 4.20000000000087], \"name\": \"EUR/CHF\", \"boxpoints\": false}, {\"type\": \"box\", \"y\": [1.9000000000005457, 2.1000000000000796, 2.1000000000000796, 2.3000000000024556, 2.5000000000005684, 2.5000000000005684, 3.1999999999982265], \"name\": \"EUR/JPY\", \"boxpoints\": false}, {\"type\": \"box\", \"y\": [1.2000000000000455, 1.300000000000523, 1.300000000000523, 1.4000000000010004, 1.6000000000005343, 1.6000000000005343, 1.9000000000005457], \"name\": \"USD/JPY\", \"boxpoints\": false}, {\"type\": \"box\", \"y\": [1.3999999999991797, 1.4999999999998348, 1.4999999999998348, 1.7999999999995797, 2.1999999999988695, 2.1999999999988695, 3.1000000000003247], \"name\": \"USD/CHF\", \"boxpoints\": false}, {\"type\": \"box\", \"y\": [1.900000000001345, 2.100000000000435, 2.100000000000435, 2.300000000001745, 2.9999999999996696, 2.9999999999996696, 4.3999999999999595], \"name\": \"USD/CAD\", \"boxpoints\": false}, {\"type\": \"box\", \"y\": [1.3999999999980695, 1.500000000000945, 1.500000000000945, 1.80000000000069, 2.100000000000435, 2.100000000000435, 2.80000000000058], \"name\": \"GBP/USD\", \"boxpoints\": false}, {\"type\": \"box\", \"y\": [1.7000000000000348, 1.80000000000069, 1.80000000000069, 1.9999999999997797, 2.4000000000001798, 2.4000000000001798, 3.1000000000003247], \"name\": \"AUD/USD\", \"boxpoints\": false}], {\"title\": \"FXCM Spread distribution based on minutes bid ask differences since 2008 computed using spark (min=p10 max=p90)\", \"xaxis\": {\"title\": \"Instrument\"}, \"yaxis\": {\"title\": \"Spread\"}, \"bargap\": 0.2, \"bargroupgap\": 0.1}, {\"showLink\": true, \"linkText\": \"Export to plot.ly\"})});</script>"
      ],
      "text/vnd.plotly.v1+html": [
       "<div id=\"02ff6099-0c3a-4252-b5ad-25fafafe2038\" style=\"height: 525px; width: 100%;\" class=\"plotly-graph-div\"></div><script type=\"text/javascript\">require([\"plotly\"], function(Plotly) { window.PLOTLYENV=window.PLOTLYENV || {};window.PLOTLYENV.BASE_URL=\"https://plot.ly\";Plotly.newPlot(\"02ff6099-0c3a-4252-b5ad-25fafafe2038\", [{\"type\": \"box\", \"y\": [1.100000000000545, 1.2000000000012, 1.2000000000012, 1.40000000000029, 1.500000000000945, 1.500000000000945, 1.7000000000000348], \"name\": \"EUR/USD\", \"boxpoints\": false}, {\"type\": \"box\", \"y\": [1.9999999999997797, 2.20000000000109, 2.20000000000109, 2.4999999999986144, 3.20000000000098, 3.20000000000098, 4.20000000000087], \"name\": \"EUR/CHF\", \"boxpoints\": false}, {\"type\": \"box\", \"y\": [1.9000000000005457, 2.1000000000000796, 2.1000000000000796, 2.3000000000024556, 2.5000000000005684, 2.5000000000005684, 3.1999999999982265], \"name\": \"EUR/JPY\", \"boxpoints\": false}, {\"type\": \"box\", \"y\": [1.2000000000000455, 1.300000000000523, 1.300000000000523, 1.4000000000010004, 1.6000000000005343, 1.6000000000005343, 1.9000000000005457], \"name\": \"USD/JPY\", \"boxpoints\": false}, {\"type\": \"box\", \"y\": [1.3999999999991797, 1.4999999999998348, 1.4999999999998348, 1.7999999999995797, 2.1999999999988695, 2.1999999999988695, 3.1000000000003247], \"name\": \"USD/CHF\", \"boxpoints\": false}, {\"type\": \"box\", \"y\": [1.900000000001345, 2.100000000000435, 2.100000000000435, 2.300000000001745, 2.9999999999996696, 2.9999999999996696, 4.3999999999999595], \"name\": \"USD/CAD\", \"boxpoints\": false}, {\"type\": \"box\", \"y\": [1.3999999999980695, 1.500000000000945, 1.500000000000945, 1.80000000000069, 2.100000000000435, 2.100000000000435, 2.80000000000058], \"name\": \"GBP/USD\", \"boxpoints\": false}, {\"type\": \"box\", \"y\": [1.7000000000000348, 1.80000000000069, 1.80000000000069, 1.9999999999997797, 2.4000000000001798, 2.4000000000001798, 3.1000000000003247], \"name\": \"AUD/USD\", \"boxpoints\": false}], {\"title\": \"FXCM Spread distribution based on minutes bid ask differences since 2008 computed using spark (min=p10 max=p90)\", \"xaxis\": {\"title\": \"Instrument\"}, \"yaxis\": {\"title\": \"Spread\"}, \"bargap\": 0.2, \"bargroupgap\": 0.1}, {\"showLink\": true, \"linkText\": \"Export to plot.ly\"})});</script>"
      ]
     },
     "metadata": {},
     "output_type": "display_data"
    }
   ],
   "source": [
    "from plotly.offline import download_plotlyjs, init_notebook_mode, plot, iplot\n",
    "init_notebook_mode(connected=True)\n",
    "import plotly.graph_objs as go\n",
    "\n",
    "\n",
    "def compute_quantiles(inst,pip=10000):\n",
    "    ninst = inst.replace(\"/\",\"\")\n",
    "    df_spark_eurusd = df_spark.filter(df_spark[\"inst\"]==ninst)\n",
    "    df_spark_eurusd = df_spark_eurusd.withColumn(\"spread_\"+ninst,pip*(df_spark_eurusd[\"askopen\"] - df_spark_eurusd[\"bidopen\"]) )\n",
    "    pip_quantiles = df_spark_eurusd.approxQuantile(\"spread_\"+ninst, [0.1,0.25,0.5,0.75,0.9], 0)\n",
    "    return pip_quantiles\n",
    "\n",
    "\n",
    "# trick to provide already computed quantiles to plotly\n",
    "def get_boxplot_data(inst,pipf=10000):   \n",
    "    quantiles = compute_quantiles(inst,pipf)\n",
    "    data = [quantiles[0],quantiles[1],quantiles[1],quantiles[2],quantiles[3],quantiles[3],quantiles[4]]\n",
    "    boxplot = go.Box(\n",
    "        y=data,\n",
    "        name=inst,\n",
    "        boxpoints=False\n",
    "    )\n",
    "    return boxplot\n",
    "\n",
    "data = []\n",
    "instlist = ['EUR/USD','EUR/CHF','EUR/JPY','USD/JPY','USD/CHF',\"USD/CAD\", 'GBP/USD', 'AUD/USD']\n",
    "\n",
    "for inst in instlist:\n",
    "    pipf = 10000\n",
    "    if 'JPY' in inst:\n",
    "        pipf = 100 \n",
    "    data.append(get_boxplot_data(inst,pipf))\n",
    "\n",
    "layout = go.Layout(\n",
    "    title='FXCM Spread distribution based on minutes bid ask differences since 2008 computed using spark (min=p10 max=p90)',\n",
    "    xaxis=dict( title='Instrument'),\n",
    "    yaxis=dict( title='Spread'),\n",
    "    bargap=0.2,\n",
    "    bargroupgap=0.1\n",
    ")\n",
    "\n",
    "fig = go.Figure(data=data, layout=layout)\n",
    "iplot(fig, filename='boxplot spread')\n"
   ]
  },
  {
   "cell_type": "markdown",
   "metadata": {},
   "source": [
    "## Get the list of currency pairs "
   ]
  },
  {
   "cell_type": "code",
   "execution_count": 2,
   "metadata": {},
   "outputs": [],
   "source": [
    "import datetime as dt\n",
    "df_spark_glob = spark.read.parquet(\"data/forexdatam\")\n",
    "beg = dt.datetime(year=2018,month=1,day=3)\n",
    "end = dt.datetime(year=2018,month=1,day=5)\n",
    "listinst = df_spark_glob.filter(df_spark_glob.date.between(beg,end)).select('inst').distinct().rdd.flatMap(lambda x: x).collect()       "
   ]
  },
  {
   "cell_type": "markdown",
   "metadata": {},
   "source": [
    "## Interpolate the data\n",
    "\n",
    "Linear Interpolate candles ( even for the ticks, yep )  up to 10 minutes."
   ]
  },
  {
   "cell_type": "code",
   "execution_count": null,
   "metadata": {},
   "outputs": [],
   "source": [
    "import pandas as pd\n",
    "import os\n",
    "\n",
    "for inst in listinst: \n",
    "    print(\"inst\",inst)\n",
    "    for year in range(2008,2019):\n",
    "        filename = \"data/forexdatam/inst={}/data_{}.parquet\".format(inst,year)\n",
    "        df = pd.read_parquet(filename)\n",
    "        df = df.interpolate(limit=10)\n",
    "        directory = \"data/forexdataint/inst={}\".format(inst)\n",
    "        if not os.path.exists(directory):\n",
    "            os.makedirs(directory)\n",
    "        filename = \"{}/data_{}.parquet\".format(directory,year)\n",
    "        df.to_parquet(filename)"
   ]
  },
  {
   "cell_type": "markdown",
   "metadata": {},
   "source": [
    "## Join the data\n",
    "\n",
    "Store the data in this schema :\n",
    "\n",
    "- Each row is a minute of 40 columns = 5 (OHLCV) * 8 (pairs)"
   ]
  },
  {
   "cell_type": "code",
   "execution_count": null,
   "metadata": {},
   "outputs": [],
   "source": [
    "import datetime as dt\n",
    "\n",
    "df_spark_glob = spark.read.parquet(\"data/forexdataint\")\n",
    "df_spark_glob.createOrReplaceTempView(\"fxcmtable\")\n",
    "df_list = []\n",
    "\n",
    "for ins in listinst:\n",
    "    request = \"SELECT date,bidopen as O_{0},bidclose as C_{0} \\\n",
    "    ,bidhigh as H_{0},bidlow as L_{0}, tickqty as tick_{0} \\\n",
    "    FROM fxcmtable WHERE inst='{0}'\".format(ins)\n",
    "    df_list.append(spark.sql(request))\n",
    "\n",
    "df_first = df_list.pop(0)\n",
    "for df in df_list:\n",
    "    df_first = df_first.join(df,on=['date']).orderBy('date')\n",
    "    \n",
    "df_first.write.parquet(\"data/forexdatajoin/\",mode='overwrite')\n",
    "   "
   ]
  },
  {
   "cell_type": "markdown",
   "metadata": {},
   "source": [
    "## Remove the empty minute intervals \n",
    "\n",
    "Drop the null values. The sampling rate is not anymore constant  "
   ]
  },
  {
   "cell_type": "code",
   "execution_count": null,
   "metadata": {},
   "outputs": [],
   "source": [
    "dfjoin = spark.read.parquet(\"data/forexdatajoin/\")    \n",
    "dfjoin.dropna().write.parquet(\"data/forexdatajoinclean/\",mode='overwrite')"
   ]
  }
 ],
 "metadata": {
  "kernelspec": {
   "display_name": "Python 3",
   "language": "python",
   "name": "python3"
  },
  "language_info": {
   "codemirror_mode": {
    "name": "ipython",
    "version": 3
   },
   "file_extension": ".py",
   "mimetype": "text/x-python",
   "name": "python",
   "nbconvert_exporter": "python",
   "pygments_lexer": "ipython3",
   "version": "3.6.5"
  },
  "widgets": {
   "application/vnd.jupyter.widget-state+json": {
    "state": {},
    "version_major": 2,
    "version_minor": 0
   }
  }
 },
 "nbformat": 4,
 "nbformat_minor": 2
}
