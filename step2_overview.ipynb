{
 "cells": [
  {
   "cell_type": "markdown",
   "metadata": {},
   "source": [
    "# Data Overview \n",
    "\n",
    "This notebook will explore and visualize the data stored in the data folder"
   ]
  },
  {
   "cell_type": "markdown",
   "metadata": {},
   "source": [
    "## Connect to Spark\n",
    "\n",
    "Findspark package will do the job"
   ]
  },
  {
   "cell_type": "code",
   "execution_count": 2,
   "metadata": {},
   "outputs": [],
   "source": [
    "import findspark\n",
    "findspark.init()\n",
    "\n",
    "from pyspark.sql import SparkSession\n",
    "from pyspark.sql import SQLContext\n",
    "from pyspark import SparkContext\n",
    "import pyspark\n",
    "\n",
    "spark = SparkSession \\\n",
    "    .builder \\\n",
    "    .appName(\"Paktolos\") \\\n",
    "    .getOrCreate()\n",
    "\n",
    "sc = SparkContext.getOrCreate()\n",
    "sqlc = SQLContext(sc)"
   ]
  },
  {
   "cell_type": "markdown",
   "metadata": {},
   "source": [
    "## Table display\n",
    "\n",
    "Display a data slice using a pandas table "
   ]
  },
  {
   "cell_type": "code",
   "execution_count": 12,
   "metadata": {},
   "outputs": [
    {
     "data": {
      "text/html": [
       "<div>\n",
       "<style scoped>\n",
       "    .dataframe tbody tr th:only-of-type {\n",
       "        vertical-align: middle;\n",
       "    }\n",
       "\n",
       "    .dataframe tbody tr th {\n",
       "        vertical-align: top;\n",
       "    }\n",
       "\n",
       "    .dataframe thead th {\n",
       "        text-align: right;\n",
       "    }\n",
       "</style>\n",
       "<table border=\"1\" class=\"dataframe\">\n",
       "  <thead>\n",
       "    <tr style=\"text-align: right;\">\n",
       "      <th></th>\n",
       "      <th>date</th>\n",
       "      <th>O_AUDUSD</th>\n",
       "      <th>C_AUDUSD</th>\n",
       "      <th>H_AUDUSD</th>\n",
       "      <th>L_AUDUSD</th>\n",
       "      <th>tick_AUDUSD</th>\n",
       "      <th>O_GBPUSD</th>\n",
       "      <th>C_GBPUSD</th>\n",
       "      <th>H_GBPUSD</th>\n",
       "      <th>L_GBPUSD</th>\n",
       "      <th>...</th>\n",
       "      <th>O_EURCHF</th>\n",
       "      <th>C_EURCHF</th>\n",
       "      <th>H_EURCHF</th>\n",
       "      <th>L_EURCHF</th>\n",
       "      <th>tick_EURCHF</th>\n",
       "      <th>O_USDCAD</th>\n",
       "      <th>C_USDCAD</th>\n",
       "      <th>H_USDCAD</th>\n",
       "      <th>L_USDCAD</th>\n",
       "      <th>tick_USDCAD</th>\n",
       "    </tr>\n",
       "  </thead>\n",
       "  <tbody>\n",
       "    <tr>\n",
       "      <th>0</th>\n",
       "      <td>2018-01-03 00:00:00</td>\n",
       "      <td>0.78250</td>\n",
       "      <td>0.78263</td>\n",
       "      <td>0.78279</td>\n",
       "      <td>0.78250</td>\n",
       "      <td>186.0</td>\n",
       "      <td>1.35898</td>\n",
       "      <td>1.35906</td>\n",
       "      <td>1.35910</td>\n",
       "      <td>1.35896</td>\n",
       "      <td>...</td>\n",
       "      <td>1.17162</td>\n",
       "      <td>1.17165</td>\n",
       "      <td>1.17186</td>\n",
       "      <td>1.17142</td>\n",
       "      <td>371.0</td>\n",
       "      <td>1.25133</td>\n",
       "      <td>1.25142</td>\n",
       "      <td>1.25147</td>\n",
       "      <td>1.25131</td>\n",
       "      <td>162.0</td>\n",
       "    </tr>\n",
       "    <tr>\n",
       "      <th>1</th>\n",
       "      <td>2018-01-03 00:01:00</td>\n",
       "      <td>0.78263</td>\n",
       "      <td>0.78253</td>\n",
       "      <td>0.78263</td>\n",
       "      <td>0.78247</td>\n",
       "      <td>160.0</td>\n",
       "      <td>1.35906</td>\n",
       "      <td>1.35906</td>\n",
       "      <td>1.35908</td>\n",
       "      <td>1.35898</td>\n",
       "      <td>...</td>\n",
       "      <td>1.17165</td>\n",
       "      <td>1.17174</td>\n",
       "      <td>1.17188</td>\n",
       "      <td>1.17149</td>\n",
       "      <td>216.0</td>\n",
       "      <td>1.25142</td>\n",
       "      <td>1.25141</td>\n",
       "      <td>1.25156</td>\n",
       "      <td>1.25137</td>\n",
       "      <td>298.0</td>\n",
       "    </tr>\n",
       "    <tr>\n",
       "      <th>2</th>\n",
       "      <td>2018-01-03 00:02:00</td>\n",
       "      <td>0.78253</td>\n",
       "      <td>0.78261</td>\n",
       "      <td>0.78266</td>\n",
       "      <td>0.78249</td>\n",
       "      <td>146.0</td>\n",
       "      <td>1.35906</td>\n",
       "      <td>1.35909</td>\n",
       "      <td>1.35909</td>\n",
       "      <td>1.35901</td>\n",
       "      <td>...</td>\n",
       "      <td>1.17174</td>\n",
       "      <td>1.17173</td>\n",
       "      <td>1.17183</td>\n",
       "      <td>1.17165</td>\n",
       "      <td>83.0</td>\n",
       "      <td>1.25141</td>\n",
       "      <td>1.25133</td>\n",
       "      <td>1.25143</td>\n",
       "      <td>1.25133</td>\n",
       "      <td>407.0</td>\n",
       "    </tr>\n",
       "    <tr>\n",
       "      <th>3</th>\n",
       "      <td>2018-01-03 00:03:00</td>\n",
       "      <td>0.78261</td>\n",
       "      <td>0.78261</td>\n",
       "      <td>0.78263</td>\n",
       "      <td>0.78258</td>\n",
       "      <td>290.0</td>\n",
       "      <td>1.35909</td>\n",
       "      <td>1.35911</td>\n",
       "      <td>1.35911</td>\n",
       "      <td>1.35900</td>\n",
       "      <td>...</td>\n",
       "      <td>1.17173</td>\n",
       "      <td>1.17160</td>\n",
       "      <td>1.17177</td>\n",
       "      <td>1.17154</td>\n",
       "      <td>139.0</td>\n",
       "      <td>1.25133</td>\n",
       "      <td>1.25140</td>\n",
       "      <td>1.25141</td>\n",
       "      <td>1.25131</td>\n",
       "      <td>63.0</td>\n",
       "    </tr>\n",
       "    <tr>\n",
       "      <th>4</th>\n",
       "      <td>2018-01-03 00:04:00</td>\n",
       "      <td>0.78261</td>\n",
       "      <td>0.78272</td>\n",
       "      <td>0.78275</td>\n",
       "      <td>0.78259</td>\n",
       "      <td>215.0</td>\n",
       "      <td>1.35911</td>\n",
       "      <td>1.35906</td>\n",
       "      <td>1.35911</td>\n",
       "      <td>1.35904</td>\n",
       "      <td>...</td>\n",
       "      <td>1.17160</td>\n",
       "      <td>1.17189</td>\n",
       "      <td>1.17194</td>\n",
       "      <td>1.17160</td>\n",
       "      <td>532.0</td>\n",
       "      <td>1.25140</td>\n",
       "      <td>1.25116</td>\n",
       "      <td>1.25144</td>\n",
       "      <td>1.25113</td>\n",
       "      <td>255.0</td>\n",
       "    </tr>\n",
       "  </tbody>\n",
       "</table>\n",
       "<p>5 rows × 41 columns</p>\n",
       "</div>"
      ],
      "text/plain": [
       "                 date  O_AUDUSD  C_AUDUSD  H_AUDUSD  L_AUDUSD  tick_AUDUSD  \\\n",
       "0 2018-01-03 00:00:00   0.78250   0.78263   0.78279   0.78250        186.0   \n",
       "1 2018-01-03 00:01:00   0.78263   0.78253   0.78263   0.78247        160.0   \n",
       "2 2018-01-03 00:02:00   0.78253   0.78261   0.78266   0.78249        146.0   \n",
       "3 2018-01-03 00:03:00   0.78261   0.78261   0.78263   0.78258        290.0   \n",
       "4 2018-01-03 00:04:00   0.78261   0.78272   0.78275   0.78259        215.0   \n",
       "\n",
       "   O_GBPUSD  C_GBPUSD  H_GBPUSD  L_GBPUSD     ...       O_EURCHF  C_EURCHF  \\\n",
       "0   1.35898   1.35906   1.35910   1.35896     ...        1.17162   1.17165   \n",
       "1   1.35906   1.35906   1.35908   1.35898     ...        1.17165   1.17174   \n",
       "2   1.35906   1.35909   1.35909   1.35901     ...        1.17174   1.17173   \n",
       "3   1.35909   1.35911   1.35911   1.35900     ...        1.17173   1.17160   \n",
       "4   1.35911   1.35906   1.35911   1.35904     ...        1.17160   1.17189   \n",
       "\n",
       "   H_EURCHF  L_EURCHF  tick_EURCHF  O_USDCAD  C_USDCAD  H_USDCAD  L_USDCAD  \\\n",
       "0   1.17186   1.17142        371.0   1.25133   1.25142   1.25147   1.25131   \n",
       "1   1.17188   1.17149        216.0   1.25142   1.25141   1.25156   1.25137   \n",
       "2   1.17183   1.17165         83.0   1.25141   1.25133   1.25143   1.25133   \n",
       "3   1.17177   1.17154        139.0   1.25133   1.25140   1.25141   1.25131   \n",
       "4   1.17194   1.17160        532.0   1.25140   1.25116   1.25144   1.25113   \n",
       "\n",
       "   tick_USDCAD  \n",
       "0        162.0  \n",
       "1        298.0  \n",
       "2        407.0  \n",
       "3         63.0  \n",
       "4        255.0  \n",
       "\n",
       "[5 rows x 41 columns]"
      ]
     },
     "execution_count": 12,
     "metadata": {},
     "output_type": "execute_result"
    }
   ],
   "source": [
    "dfjoinclean = spark.read.parquet(\"data/forexdatajoinclean/\")  \n",
    "\n",
    "beg = dt.datetime(year=2018,month=1,day=3)\n",
    "end = dt.datetime(year=2018,month=1,day=5)\n",
    "\n",
    "df = dfjoinclean.filter(dfjoinclean.date.between(beg,end)).toPandas()\n",
    "df.head()"
   ]
  },
  {
   "cell_type": "markdown",
   "metadata": {},
   "source": [
    "## Correlation between pairs\n",
    "\n",
    "Compute the correlation pairs over ten years"
   ]
  },
  {
   "cell_type": "code",
   "execution_count": 11,
   "metadata": {},
   "outputs": [
    {
     "data": {
      "text/html": [
       "<script>requirejs.config({paths: { 'plotly': ['https://cdn.plot.ly/plotly-latest.min']},});if(!window.Plotly) {{require(['plotly'],function(plotly) {window.Plotly=plotly;});}}</script>"
      ],
      "text/vnd.plotly.v1+html": [
       "<script>requirejs.config({paths: { 'plotly': ['https://cdn.plot.ly/plotly-latest.min']},});if(!window.Plotly) {{require(['plotly'],function(plotly) {window.Plotly=plotly;});}}</script>"
      ]
     },
     "metadata": {},
     "output_type": "display_data"
    },
    {
     "data": {
      "application/vnd.plotly.v1+json": {
       "data": [
        {
         "name": "10yearsCorr",
         "type": "heatmap",
         "x": [
          "O_AUDUSD",
          "O_GBPUSD",
          "O_USDJPY",
          "O_EURJPY",
          "O_USDCHF",
          "O_EURUSD",
          "O_EURCHF",
          "O_USDCAD"
         ],
         "y": [
          "O_AUDUSD",
          "O_GBPUSD",
          "O_USDJPY",
          "O_EURJPY",
          "O_USDCHF",
          "O_EURUSD",
          "O_EURCHF",
          "O_USDCAD"
         ],
         "z": [
          [
           1,
           0.49831157048680175,
           -0.7303585127267217,
           -0.2873785601548163,
           -0.536096553607198,
           0.5972287170433891,
           0.139038319538491,
           -0.8996760480802004
          ],
          [
           0.49831157048680175,
           1,
           -0.24226758081406277,
           0.47202015713686807,
           -0.008708551758560524,
           0.8155668155401398,
           0.6415804684942419,
           -0.6823157184824273
          ],
          [
           -0.7303585127267217,
           -0.24226758081406277,
           1,
           0.6367956325717301,
           0.14534771776330627,
           -0.5455482988868915,
           -0.3254814996053696,
           0.7537189519301625
          ],
          [
           -0.2873785601548163,
           0.47202015713686807,
           0.6367956325717301,
           1,
           0.20638304854618963,
           0.294996073394959,
           0.3714461952113584,
           0.12228184880695456
          ],
          [
           -0.536096553607198,
           -0.008708551758560524,
           0.14534771776330627,
           0.20638304854618963,
           1,
           0.019251028688837366,
           0.6220599816756831,
           0.22727888443408678
          ],
          [
           0.5972287170433891,
           0.8155668155401398,
           -0.5455482988868915,
           0.294996073394959,
           0.019251028688837366,
           1,
           0.793853608332833,
           -0.7984269031793108
          ],
          [
           0.139038319538491,
           0.6415804684942419,
           -0.3254814996053696,
           0.3714461952113584,
           0.6220599816756831,
           0.793853608332833,
           1,
           -0.4839140619642666
          ],
          [
           -0.8996760480802004,
           -0.6823157184824273,
           0.7537189519301625,
           0.12228184880695456,
           0.22727888443408678,
           -0.7984269031793108,
           -0.4839140619642666,
           1
          ]
         ],
         "zmax": 1,
         "zmin": -1
        }
       ],
       "layout": {
        "title": "Currency pairs correlation based on minute intervals since 2008 computed using spark"
       }
      },
      "text/html": [
       "<div id=\"c84449df-2faf-459f-b3aa-0302c97f6fef\" style=\"height: 525px; width: 100%;\" class=\"plotly-graph-div\"></div><script type=\"text/javascript\">require([\"plotly\"], function(Plotly) { window.PLOTLYENV=window.PLOTLYENV || {};window.PLOTLYENV.BASE_URL=\"https://plot.ly\";Plotly.newPlot(\"c84449df-2faf-459f-b3aa-0302c97f6fef\", [{\"type\": \"heatmap\", \"z\": [[1.0, 0.49831157048680175, -0.7303585127267217, -0.2873785601548163, -0.536096553607198, 0.5972287170433891, 0.139038319538491, -0.8996760480802004], [0.49831157048680175, 1.0, -0.24226758081406277, 0.47202015713686807, -0.008708551758560524, 0.8155668155401398, 0.6415804684942419, -0.6823157184824273], [-0.7303585127267217, -0.24226758081406277, 1.0, 0.6367956325717301, 0.14534771776330627, -0.5455482988868915, -0.3254814996053696, 0.7537189519301625], [-0.2873785601548163, 0.47202015713686807, 0.6367956325717301, 1.0, 0.20638304854618963, 0.294996073394959, 0.3714461952113584, 0.12228184880695456], [-0.536096553607198, -0.008708551758560524, 0.14534771776330627, 0.20638304854618963, 1.0, 0.019251028688837366, 0.6220599816756831, 0.22727888443408678], [0.5972287170433891, 0.8155668155401398, -0.5455482988868915, 0.294996073394959, 0.019251028688837366, 1.0, 0.793853608332833, -0.7984269031793108], [0.139038319538491, 0.6415804684942419, -0.3254814996053696, 0.3714461952113584, 0.6220599816756831, 0.793853608332833, 1.0, -0.4839140619642666], [-0.8996760480802004, -0.6823157184824273, 0.7537189519301625, 0.12228184880695456, 0.22727888443408678, -0.7984269031793108, -0.4839140619642666, 1.0]], \"zmin\": -1, \"zmax\": 1, \"name\": \"10yearsCorr\", \"x\": [\"O_AUDUSD\", \"O_GBPUSD\", \"O_USDJPY\", \"O_EURJPY\", \"O_USDCHF\", \"O_EURUSD\", \"O_EURCHF\", \"O_USDCAD\"], \"y\": [\"O_AUDUSD\", \"O_GBPUSD\", \"O_USDJPY\", \"O_EURJPY\", \"O_USDCHF\", \"O_EURUSD\", \"O_EURCHF\", \"O_USDCAD\"]}], {\"title\": \"Currency pairs correlation based on minute intervals since 2008 computed using spark\"}, {\"showLink\": true, \"linkText\": \"Export to plot.ly\"})});</script>"
      ],
      "text/vnd.plotly.v1+html": [
       "<div id=\"c84449df-2faf-459f-b3aa-0302c97f6fef\" style=\"height: 525px; width: 100%;\" class=\"plotly-graph-div\"></div><script type=\"text/javascript\">require([\"plotly\"], function(Plotly) { window.PLOTLYENV=window.PLOTLYENV || {};window.PLOTLYENV.BASE_URL=\"https://plot.ly\";Plotly.newPlot(\"c84449df-2faf-459f-b3aa-0302c97f6fef\", [{\"type\": \"heatmap\", \"z\": [[1.0, 0.49831157048680175, -0.7303585127267217, -0.2873785601548163, -0.536096553607198, 0.5972287170433891, 0.139038319538491, -0.8996760480802004], [0.49831157048680175, 1.0, -0.24226758081406277, 0.47202015713686807, -0.008708551758560524, 0.8155668155401398, 0.6415804684942419, -0.6823157184824273], [-0.7303585127267217, -0.24226758081406277, 1.0, 0.6367956325717301, 0.14534771776330627, -0.5455482988868915, -0.3254814996053696, 0.7537189519301625], [-0.2873785601548163, 0.47202015713686807, 0.6367956325717301, 1.0, 0.20638304854618963, 0.294996073394959, 0.3714461952113584, 0.12228184880695456], [-0.536096553607198, -0.008708551758560524, 0.14534771776330627, 0.20638304854618963, 1.0, 0.019251028688837366, 0.6220599816756831, 0.22727888443408678], [0.5972287170433891, 0.8155668155401398, -0.5455482988868915, 0.294996073394959, 0.019251028688837366, 1.0, 0.793853608332833, -0.7984269031793108], [0.139038319538491, 0.6415804684942419, -0.3254814996053696, 0.3714461952113584, 0.6220599816756831, 0.793853608332833, 1.0, -0.4839140619642666], [-0.8996760480802004, -0.6823157184824273, 0.7537189519301625, 0.12228184880695456, 0.22727888443408678, -0.7984269031793108, -0.4839140619642666, 1.0]], \"zmin\": -1, \"zmax\": 1, \"name\": \"10yearsCorr\", \"x\": [\"O_AUDUSD\", \"O_GBPUSD\", \"O_USDJPY\", \"O_EURJPY\", \"O_USDCHF\", \"O_EURUSD\", \"O_EURCHF\", \"O_USDCAD\"], \"y\": [\"O_AUDUSD\", \"O_GBPUSD\", \"O_USDJPY\", \"O_EURJPY\", \"O_USDCHF\", \"O_EURUSD\", \"O_EURCHF\", \"O_USDCAD\"]}], {\"title\": \"Currency pairs correlation based on minute intervals since 2008 computed using spark\"}, {\"showLink\": true, \"linkText\": \"Export to plot.ly\"})});</script>"
      ]
     },
     "metadata": {},
     "output_type": "display_data"
    }
   ],
   "source": [
    "from pyspark.mllib.stat import Statistics\n",
    "from pyspark.ml.stat import Correlation\n",
    "from pyspark.ml.feature import VectorAssembler\n",
    "from plotly.offline import download_plotlyjs, init_notebook_mode, plot, iplot\n",
    "init_notebook_mode(connected=True)\n",
    "import plotly.graph_objs as go\n",
    "\n",
    "def corr_matrix(inpcols,beg=None,end=None):\n",
    "    \n",
    "    dfjoin = spark.read.parquet(\"data/forexdatajoinclean/\")    \n",
    "     \n",
    "    if beg is None or end is None:\n",
    "        dfilter = dfjoin\n",
    "    else :\n",
    "        dfilter = dfjoin.filter(dfjoin.date.between(beg,end ))\n",
    "    \n",
    "    dfilter = dfilter.dropna()\n",
    "    vec_assembler = VectorAssembler(inputCols=inpcols, outputCol=\"features\")\n",
    "    dffeatures = vec_assembler.transform(dfilter)\n",
    "    pearsonCorr = Correlation.corr(dffeatures, 'features', 'pearson').collect()\n",
    "    return pearsonCorr\n",
    "\n",
    "dfjoin = spark.read.parquet(\"data/forexdatajoinclean/\")    \n",
    " \n",
    "inpcols = dfjoin.columns\n",
    "inpcols.remove(\"date\")\n",
    "inpcols = [x for x in inpcols if x.startswith(\"O_\")]\n",
    "rowsize = len(inpcols)\n",
    "\n",
    "corrpearson = corr_matrix(inpcols = inpcols)\n",
    "\n",
    "trace = go.Heatmap(\n",
    "    z=corrpearson[0][0].values.reshape(rowsize,rowsize),    \n",
    "    zmin = -1,\n",
    "    zmax = 1,\n",
    "    name= \"10yearsCorr\",\n",
    "    x=inpcols,\n",
    "    y=inpcols)    \n",
    "\n",
    "data=[trace]\n",
    "\n",
    "layout = go.Layout(\n",
    "    title='Currency pairs correlation based on minute intervals since 2008 computed using spark'\n",
    ")\n",
    "\n",
    "fig = go.Figure(data=data, layout=layout)\n",
    "iplot(fig, filename='corr heatmap')\n"
   ]
  },
  {
   "cell_type": "code",
   "execution_count": null,
   "metadata": {},
   "outputs": [],
   "source": []
  }
 ],
 "metadata": {
  "kernelspec": {
   "display_name": "Python 3",
   "language": "python",
   "name": "python3"
  },
  "language_info": {
   "codemirror_mode": {
    "name": "ipython",
    "version": 3
   },
   "file_extension": ".py",
   "mimetype": "text/x-python",
   "name": "python",
   "nbconvert_exporter": "python",
   "pygments_lexer": "ipython3",
   "version": "3.6.5"
  }
 },
 "nbformat": 4,
 "nbformat_minor": 2
}
